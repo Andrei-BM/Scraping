{
 "cells": [
  {
   "cell_type": "markdown",
   "id": "3cb4fece",
   "metadata": {},
   "source": [
    "# Домашнее задание к уроку №2 по курсу \"Методы сбора и обработки данных из сети"
   ]
  },
  {
   "cell_type": "code",
   "execution_count": 26,
   "id": "96dd339d",
   "metadata": {},
   "outputs": [],
   "source": [
    "import requests\n",
    "from lxml import html\n",
    "from pprint import pprint\n",
    "# import json"
   ]
  },
  {
   "cell_type": "markdown",
   "id": "1df9577c",
   "metadata": {},
   "source": [
    "Соберем заголовки новостей с сайтов Lenta.ru и interfax.ru (К сожалению https://dzen.ru/news пропарсить не получилось.)"
   ]
  },
  {
   "cell_type": "code",
   "execution_count": 79,
   "id": "3b694620",
   "metadata": {},
   "outputs": [],
   "source": [
    "url = 'https://lenta.ru'\n",
    "headers = {\n",
    "    'User-Agent':'Mozilla/5.0 (Windows NT 6.3; Win64; x64) AppleWebKit/537.36 (KHTML, like Gecko) Chrome/108.0.0.0 Safari/537.36'\n",
    "}\n",
    "\n",
    "answer = requests.get(url, headers=headers)\n"
   ]
  },
  {
   "cell_type": "code",
   "execution_count": 80,
   "id": "2bd13409",
   "metadata": {},
   "outputs": [],
   "source": [
    "dom = html.fromstring(answer.text)\n",
    "text_list = dom.xpath('//div[@class=\"topnews\"]/div//h3/text()')\n",
    "text_list.extend(dom.xpath('//div[@class=\"topnews\"]//span/text()'))\n",
    "link_list = dom.xpath('//div[@class=\"topnews\"]//a[contains(@class, \"_topnews\")]/@href')\n",
    "time_list = dom.xpath('//div[@class=\"topnews\"]//time/text()')\n"
   ]
  },
  {
   "cell_type": "code",
   "execution_count": 81,
   "id": "3ad09080",
   "metadata": {},
   "outputs": [
    {
     "name": "stdout",
     "output_type": "stream",
     "text": [
      "1. 16:42 - Шойгу предложил изменить призывной возраст. \n",
      " https://lenta.ru/news/2022/12/21/shoigu_vozrast/\n",
      "2. 17:21 - Последствия введения потолка цен на нефть из России оценили. \n",
      " https://lenta.ru/news/2022/12/21/ptr/\n",
      "3. 17:21 - Пригожин заявил о планах набирать снайперов и диверсантов в женских колониях. \n",
      " https://lenta.ru/news/2022/12/21/womanss/\n",
      "4. 17:21 - На бывшем заводе Nissan в Петербурге начнут производить Lada. \n",
      " https://lenta.ru/news/2022/12/21/ladanissan/\n",
      "5. 17:20 - Германия заявила об отсутствии ПРО Patriot для отправки Украине. \n",
      " https://lenta.ru/news/2022/12/21/no_patriots/\n",
      "6. 17:17 - Умер заслуженный артист России Иван Дробыш. \n",
      " https://lenta.ru/news/2022/12/21/drobysh_died/\n",
      "7. 17:16 - Росгвардейцы задержали пособника ВСУ в Запорожской области. \n",
      " https://lenta.ru/news/2022/12/21/rosgvvv/\n",
      "8. 17:15 - Байден приветствовал летящего к нему Зеленского. \n",
      " https://lenta.ru/news/2022/12/21/letyat_hphli/\n",
      "9. 17:14 - В Киеве произошел новый взрыв. \n",
      " https://lenta.ru/news/2022/12/21/noviy_vibukh/\n",
      "10. 17:12 - Россиянка побывала на любимом курорте богачей и назвала его главные недостатки. \n",
      " https://lenta.ru/news/2022/12/21/seyshells_disgust/\n",
      "11. 17:12 - Россиянкам перечислили подходящие к пуховикам сумки. \n",
      " https://lenta.ru/news/2022/12/21/stulist/\n",
      "12. 17:11 - В Белоруссии одобрили новые условия для выдачи гражданства. \n",
      " https://lenta.ru/news/2022/12/21/bel_citizenship/\n",
      "13. 17:06 - Звезда «Ворониных» оказался недоволен отношением приезжих к Москве. \n",
      " https://lenta.ru/news/2022/12/21/kostya/\n"
     ]
    }
   ],
   "source": [
    "n = 1\n",
    "for el in range(len(text_list)):\n",
    "    print(f'{n}. {time_list[el]} - {text_list[el]}. \\n {url + link_list[el]}')\n",
    "    n += 1"
   ]
  },
  {
   "cell_type": "code",
   "execution_count": 75,
   "id": "1ff7e0e6",
   "metadata": {},
   "outputs": [],
   "source": [
    "url = 'https://www.interfax.ru/'\n",
    "headers = {\n",
    "    'User-Agent':'Mozilla/5.0 (Windows NT 6.3; Win64; x64) AppleWebKit/537.36 (KHTML, like Gecko) Chrome/108.0.0.0 Safari/537.36'\n",
    "}\n",
    "\n",
    "answer = requests.get(url, headers=headers)\n"
   ]
  },
  {
   "cell_type": "code",
   "execution_count": 78,
   "id": "1e2aa087",
   "metadata": {},
   "outputs": [
    {
     "name": "stdout",
     "output_type": "stream",
     "text": [
      "17:16 Франция готовится к перебоям в работе поездов из-за забастовок перед Рождеством. \n",
      "https://www.interfax.ru//world/878068\n",
      "17:09 Пробки на дорогах Москвы достигли девяти баллов. \n",
      "https://www.interfax.ru//moscow/878069\n",
      "17:09 Минфин разместил ОФЗ 26237 на 2,26 млрд рублей. \n",
      "https://www.interfax.ru//business/878070\n",
      "17:07 Британия выделит $5,5 млрд для обеспечения электричеством клиентов обанкротившейся Bulb. \n",
      "https://www.interfax.ru//business/878065\n",
      "17:04 Российский \"Прогресс\" увёл МКС от космического мусора. \n",
      "https://www.interfax.ru//world/878067\n",
      "17:00 Проект о приоритетных платежах банкротов за критически важные ресурсы прошел I чтение. \n",
      "https://www.interfax.ru//russia/878063\n",
      "16:54 Росздравнадзор заявил, что препаратов ибупрофена для детей на рынке РФ достаточно. \n",
      "https://www.interfax.ru//russia/878064\n",
      "16:51 Правкомиссия одобрила уже 230 проектов модернизации инфраструктуры ЖКХ. \n",
      "https://www.interfax.ru//russia/878061\n",
      "16:51 Движение автотранспорта по Крымскому мосту открыто после ремонта. \n",
      "https://www.interfax.ru//russia/878062\n",
      "16:46 Белгородская область продлила высокий уровень террористической опасности до 5 января. \n",
      "https://www.interfax.ru//russia/878060\n",
      "16:43 Аналитики UBS спрогнозировали рост ВВП Японии в 2023 году на 1-1,5%. \n",
      "https://www.interfax.ru//business/878059\n",
      "16:34 В 2022 году в России построили 650 объектов для стратегических ядерных сил. \n",
      "https://www.interfax.ru//russia/878057\n",
      "16:33 Шойгу сообщил о планах создать новые авиационные дивизии, бригады и полки. \n",
      "https://www.interfax.ru//russia/878058\n",
      "16:29 Средневзвешенная доходность ОФЗ 26241 составила на аукционе 10,18%. \n",
      "https://www.interfax.ru//business/878056\n",
      "16:28 \"Яндекс.Еда\" признана потерпевшей по делу об утечке данных клиентов. \n",
      "https://www.interfax.ru//russia/878055\n",
      "16:25 Путин одобрил предложения по реформированию Вооруженных сил РФ. \n",
      "https://www.interfax.ru//russia/878052\n",
      "16:20 Три завода по ремонту военной техники появятся в РФ в 2023 году. \n",
      "https://www.interfax.ru//russia/878053\n",
      "16:18 Путин заверил, что милитаризации России и ее экономики не будет. \n",
      "https://www.interfax.ru//russia/878054\n",
      "16:17 Контрактники в перспективе заменят призванных в рамках частичной мобилизации. \n",
      "https://www.interfax.ru//russia/878050\n",
      "16:15 Маск объяснил, зачем сократил расходы Twitter. \n",
      "https://www.interfax.ru//business/878048\n",
      "16:13 В РФ намерены создать три новые дивизии, в том числе в Херсонской и Запорожской областях. \n",
      "https://www.interfax.ru//russia/878051\n",
      "16:12 Фиктивный документооборот для возмещения НДС повлечет до 7 лет лишения свободы. \n",
      "https://www.interfax.ru//russia/878049\n",
      "16:05 В России планируется создать Московский и Ленинградский военные округа. \n",
      "https://www.interfax.ru//russia/878047\n",
      "16:03 Шойгу пообещал ускорить поставки востребованного оружия в зону СВО. \n",
      "https://www.interfax.ru//russia/878045\n",
      "16:03 Россия планирует в 2023 году продолжить СВО на Украине до полного выполнения задач. \n",
      "https://www.interfax.ru//russia/878046\n",
      "16:01 Численность Вооруженных сил РФ предложено увеличить до 1,5 млн военнослужащих. \n",
      "https://www.interfax.ru//russia/878044\n",
      "15:59 Банк России готов дать банкам послабления по кредитам на \"зеленые\" проекты. \n",
      "https://www.interfax.ru//russia/878041\n",
      "15:59 РФ намерена создать группировку войск на северо-западе из-за угрозы со стороны НАТО. \n",
      "https://www.interfax.ru//russia/878043\n",
      "15:57 В РФ повысят призывной возраст с 18 до 21 года, предельный возраст призыва - до 30 лет. \n",
      "https://www.interfax.ru//russia/878042\n",
      "15:55 Законопроект об исламском банкинге прошел в Госдуме первое чтение. \n",
      "https://www.interfax.ru//business/878040\n",
      "15:53 В Думе согласились дать иностранцам доступ к валютным торгам в России. \n",
      "https://www.interfax.ru//russia/878039\n",
      "15:51 Движение поездов на участке Серпухов-Столбовая возобновлено по обоим путям. \n",
      "https://www.interfax.ru//moscow/878037\n",
      "15:47 Фрегат \"Горшков\" с \"Цирконами\" будет поставлен на дежурство в январе. \n",
      "https://www.interfax.ru//russia/878034\n",
      "15:46 Орбан призвал распустить Европарламент из-за коррупционного скандала. \n",
      "https://www.interfax.ru//world/878035\n",
      "15:45 Законопроект о бесплатном переводе до 1,4 млн руб. в месяц между своими счетами прошел I чтение. \n",
      "https://www.interfax.ru//business/878033\n",
      "15:44 Российская легкоатлетка Антюх лишена золота ОИ-2012 из-за допинга. \n",
      "https://www.interfax.ru/https://www.sport-interfax.ru/878036\n",
      "15:43 Более 250 тыс. кадровых военных РФ получили боевой опыт в ходе СВО на Украине. \n",
      "https://www.interfax.ru//russia/878032\n",
      "15:42 Ракеты \"Сармат\" в ближайшее время будут поставлены на боевое дежурство. \n",
      "https://www.interfax.ru//russia/878031\n",
      "15:38 Шойгу заявил о планах развернуть в Бердянске и Мариуполе пункты базирования судов обеспечения ВМФ. \n",
      "https://www.interfax.ru//russia/878030\n",
      "15:37 Путин заявил о необходимости обеспечить беспилотниками все звенья армии РФ. \n",
      "https://www.interfax.ru//russia/878028\n",
      "15:37 Запад не нашел доказательств причастности России к подрывам \"Северных потоков\". \n",
      "https://www.interfax.ru//world/878020\n",
      "15:34 Астронавты не выйдут в открытый космос из-за угрозы столкновения с космическим мусором. \n",
      "https://www.interfax.ru//world/878024\n",
      "15:32 Шойгу сообщил о трудностях при проведении частичной мобилизации. \n",
      "https://www.interfax.ru//russia/878025\n",
      "15:32 Более 830 тыс. человек были освобождены от призыва в рамках частичной мобилизации. \n",
      "https://www.interfax.ru//russia/878027\n",
      "15:27 Путин заявил об отсутствии ограничений по финансированию Вооруженных сил РФ. \n",
      "https://www.interfax.ru//russia/878022\n",
      "15:25 Президент РФ поручил модернизировать систему военкоматов. \n",
      "https://www.interfax.ru//russia/878023\n",
      "15:22 Шойгу заявил, что Запад стремится затянуть военные действия на Украине для ослабления РФ. \n",
      "https://www.interfax.ru//world/878021\n",
      "15:20 Поправки о решении проблемы \"задвоившихся\" ИИС прошли II чтение. \n",
      "https://www.interfax.ru//russia/878016\n",
      "15:18 Путин поручил проанализировать и использовать опыт и тактику НАТО для подготовки войск РФ. \n",
      "https://www.interfax.ru//russia/878017\n",
      "15:13 Глеб Франк вышел из состава владельцев \"Русской рыбопромышленной компании\". \n",
      "https://www.interfax.ru//business/878012\n"
     ]
    }
   ],
   "source": [
    "root = html.fromstring(answer.content)\n",
    "lines = root.xpath('//div[@class=\"timeline\"]//a[@title]')\n",
    "# text_lines = dom.xpath('//div[@class=\"timeline\"]//a/@title')\n",
    "# time_lines = dom.xpath('//div[@class=\"timeline\"]//a..')\n",
    "for line in lines:\n",
    "    link_list = line.xpath('./@href')\n",
    "    text_list = line.xpath('./@title')\n",
    "    time_list = line.xpath('../time/text()')\n",
    "    # print(link_list[0])\n",
    "    print(f'{time_list[0]} {text_list[0]}. \\n{url + link_list[0]}')\n",
    "    # print(text_list)\n"
   ]
  },
  {
   "cell_type": "code",
   "execution_count": null,
   "id": "02dccea2",
   "metadata": {},
   "outputs": [],
   "source": []
  }
 ],
 "metadata": {
  "kernelspec": {
   "display_name": "Python 3 (ipykernel)",
   "language": "python",
   "name": "python3"
  },
  "language_info": {
   "codemirror_mode": {
    "name": "ipython",
    "version": 3
   },
   "file_extension": ".py",
   "mimetype": "text/x-python",
   "name": "python",
   "nbconvert_exporter": "python",
   "pygments_lexer": "ipython3",
   "version": "3.9.12"
  }
 },
 "nbformat": 4,
 "nbformat_minor": 5
}
