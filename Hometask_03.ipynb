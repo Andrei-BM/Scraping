{
 "cells": [
  {
   "cell_type": "markdown",
   "id": "9ae540bb",
   "metadata": {},
   "source": [
    "# Домашнее задание к уроку №3\n",
    "Выполняем парсинг по сайту hh.ru выбор вакансий по запросу 'python', с возможностью отбора по уровню з/п.\n"
   ]
  },
  {
   "cell_type": "code",
   "execution_count": 5,
   "id": "842126ae",
   "metadata": {},
   "outputs": [],
   "source": [
    "import requests\n",
    "# from lxml import html\n",
    "from pprint import pprint\n",
    "from bs4 import BeautifulSoup as bs\n",
    "from time import sleep\n",
    "import pandas as pd\n",
    "import json"
   ]
  },
  {
   "cell_type": "code",
   "execution_count": 9,
   "id": "f7fadc31",
   "metadata": {},
   "outputs": [],
   "source": [
    "headers = {\n",
    "    'User-Agent':'Mozilla/5.0 (Windows NT 6.3; Win64; x64; rv:107.0) Gecko/20100101 Firefox/107.0'\n",
    "}\n",
    "url = 'https://krasnodar.hh.ru/search/vacancy'\n",
    "params = {\n",
    "    'text':'python',\n",
    "    'from':'suggest_post',\n",
    "    'salary':'',\n",
    "    'area':'53',\n",
    "    'page':'0',\n",
    "    'ored_clusters':'true',\n",
    "    'enable_snippets':'true'\n",
    "}\n",
    "\n",
    "# response = requests.get(url, headers=headers, params=params)\n"
   ]
  },
  {
   "cell_type": "code",
   "execution_count": 10,
   "id": "bc3ef28b",
   "metadata": {},
   "outputs": [],
   "source": [
    "def search_position_on_wage(limit=1, url=url, headers=headers, search_params=params.copy()):\n",
    "    count = 1\n",
    "    result_dict = dict()\n",
    "    # Функция для преобразования поля \"Зарплата\" в список чисел.\n",
    "    def string_to_digit(obj):\n",
    "        result = []\n",
    "        for el in obj.split(sep='–'):\n",
    "            spam = []\n",
    "            for i in list(el):\n",
    "                if i.isdigit():\n",
    "                    spam.append(i)\n",
    "            result.append(int(''.join(spam))) if len(spam) != 0 else result.append(0)\n",
    "        return result\n",
    "    \n",
    "    def search_result_printing(obj: 'dictionary'):\n",
    "        for k, v in obj.items():\n",
    "            print(f'{k}. {v[0]} - {v[2]}\\n{v[1]}')\n",
    "    \n",
    "    while search_params['page'] != '-1':\n",
    "        answer = requests.get(url, headers=headers, params=search_params)\n",
    "        dom = bs(answer.content, 'html.parser')\n",
    "        class_list = dom.find_all('div', {'class':'vacancy-serp-item-body__main-info'})\n",
    "    \n",
    "        for item in class_list:\n",
    "            search_position = item.find('a', {'class':'serp-item__title'}).string\n",
    "            search_link = item.find('a')['href']\n",
    "            spam = item.find('span', {'class':'bloko-header-section-3'})\n",
    "            wage = spam.text if spam else 'Зарплата не указана.'\n",
    "            foo = string_to_digit(wage)\n",
    "            record_flag = False\n",
    "            for j in range(len(foo)):\n",
    "                if foo[j] >= limit:\n",
    "                    record_flag = True\n",
    "            if record_flag:\n",
    "                result_dict[count] = [search_position, search_link, wage]\n",
    "                count += 1\n",
    "        if len(class_list) != 0:\n",
    "            ham = int(search_params['page']) + 1\n",
    "            search_params['page'] = str(ham)\n",
    "        else:\n",
    "            search_params['page'] = '-1'\n",
    "        sleep(1)\n",
    "    search_result_printing(result_dict)"
   ]
  },
  {
   "cell_type": "code",
   "execution_count": 11,
   "id": "040ffa4e",
   "metadata": {},
   "outputs": [
    {
     "name": "stdout",
     "output_type": "stream",
     "text": [
      "1. Python разработчик - до 20 000 руб.\n",
      "https://krasnodar.hh.ru/vacancy/74186083?from=vacancy_search_list&query=python\n",
      "2. Python developer / Django разработчик - до 140 000 руб.\n",
      "https://krasnodar.hh.ru/vacancy/72001287?from=vacancy_search_list&query=python\n",
      "3. Middle Python разработчик (Django) - 160 000 – 240 000 руб.\n",
      "https://krasnodar.hh.ru/vacancy/67115536?from=vacancy_search_list&query=python\n",
      "4. Junior Python разработчик (Django) в офис в Краснодаре - от 60 000 руб.\n",
      "https://krasnodar.hh.ru/vacancy/69467314?from=vacancy_search_list&query=python\n",
      "5. Senior Python разработчик (Django) - от 280 000 руб.\n",
      "https://krasnodar.hh.ru/vacancy/69529590?from=vacancy_search_list&query=python\n",
      "6. Middle DevOps инженер - от 150 000 руб.\n",
      "https://krasnodar.hh.ru/vacancy/73537066?from=vacancy_search_list&query=python\n",
      "7. Инженер-программист - 100 000 – 130 000 руб.\n",
      "https://krasnodar.hh.ru/vacancy/73064117?from=vacancy_search_list&query=python\n",
      "8. Программист отдела поддержки информационных систем - от 120 000 руб.\n",
      "https://krasnodar.hh.ru/vacancy/70694791?from=vacancy_search_list&query=python\n",
      "9. Тестировщик / QA - до 60 000 руб.\n",
      "https://krasnodar.hh.ru/vacancy/72117564?from=vacancy_search_list&query=python\n",
      "10. Программист-разработчик отдела информационного обеспечения государственной кадастровой оценки - 80 000 – 80 000 руб.\n",
      "https://krasnodar.hh.ru/vacancy/70228840?from=vacancy_search_list&query=python\n",
      "11. Руководитель направления HR аналитики - 100 000 – 150 000 руб.\n",
      "https://krasnodar.hh.ru/vacancy/73888366?from=vacancy_search_list&query=python\n",
      "12. DevOps инженер - от 170 000 руб.\n",
      "https://krasnodar.hh.ru/vacancy/73866954?from=vacancy_search_list&query=python\n",
      "13. Инженер АСУ ТП (с навыками программирования) - 50 000 – 70 000 руб.\n",
      "https://krasnodar.hh.ru/vacancy/71502773?from=vacancy_search_list&query=python\n",
      "14. Аналитик по отчетности в Отдел обучения - до 70 000 руб.\n",
      "https://krasnodar.hh.ru/vacancy/73731060?from=vacancy_search_list&query=python\n"
     ]
    }
   ],
   "source": [
    "search_position_on_wage(limit=10000)"
   ]
  },
  {
   "cell_type": "code",
   "execution_count": null,
   "id": "98013066",
   "metadata": {},
   "outputs": [],
   "source": []
  }
 ],
 "metadata": {
  "kernelspec": {
   "display_name": "Python 3 (ipykernel)",
   "language": "python",
   "name": "python3"
  },
  "language_info": {
   "codemirror_mode": {
    "name": "ipython",
    "version": 3
   },
   "file_extension": ".py",
   "mimetype": "text/x-python",
   "name": "python",
   "nbconvert_exporter": "python",
   "pygments_lexer": "ipython3",
   "version": "3.9.12"
  }
 },
 "nbformat": 4,
 "nbformat_minor": 5
}
